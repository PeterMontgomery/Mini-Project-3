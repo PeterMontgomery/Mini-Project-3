{
 "cells": [
  {
   "cell_type": "code",
   "execution_count": 2,
   "id": "eed99eaa",
   "metadata": {},
   "outputs": [],
   "source": [
    "import numpy as np\n",
    "import pandas as pd\n",
    "import matplotlib.pyplot as plt\n",
    "from scipy.sparse import vstack\n",
    "import json\n",
    "import math"
   ]
  },
  {
   "cell_type": "code",
   "execution_count": 3,
   "id": "adc284d9",
   "metadata": {},
   "outputs": [],
   "source": [
    "train_df = pd.read_json(path_or_buf=\"./data/train.jsonl\", lines=True)\n",
    "test_df = pd.read_json(path_or_buf=\"./data/test.jsonl\", lines=True)\n",
    "val_df = pd.read_json(path_or_buf=\"./data/validation.jsonl\", lines=True)\n",
    "labels = [\"sadness\", \"joy\", \"love\", \"anger\", \"fear\", \"surprise\"]"
   ]
  },
  {
   "cell_type": "code",
   "execution_count": 4,
   "id": "ff2fa513",
   "metadata": {},
   "outputs": [
    {
     "data": {
      "text/html": [
       "<div>\n",
       "<style scoped>\n",
       "    .dataframe tbody tr th:only-of-type {\n",
       "        vertical-align: middle;\n",
       "    }\n",
       "\n",
       "    .dataframe tbody tr th {\n",
       "        vertical-align: top;\n",
       "    }\n",
       "\n",
       "    .dataframe thead th {\n",
       "        text-align: right;\n",
       "    }\n",
       "</style>\n",
       "<table border=\"1\" class=\"dataframe\">\n",
       "  <thead>\n",
       "    <tr style=\"text-align: right;\">\n",
       "      <th></th>\n",
       "      <th>text</th>\n",
       "      <th>label</th>\n",
       "    </tr>\n",
       "  </thead>\n",
       "  <tbody>\n",
       "    <tr>\n",
       "      <th>0</th>\n",
       "      <td>i didnt feel humiliated</td>\n",
       "      <td>0</td>\n",
       "    </tr>\n",
       "    <tr>\n",
       "      <th>1</th>\n",
       "      <td>i can go from feeling so hopeless to so damned...</td>\n",
       "      <td>0</td>\n",
       "    </tr>\n",
       "    <tr>\n",
       "      <th>2</th>\n",
       "      <td>im grabbing a minute to post i feel greedy wrong</td>\n",
       "      <td>3</td>\n",
       "    </tr>\n",
       "    <tr>\n",
       "      <th>3</th>\n",
       "      <td>i am ever feeling nostalgic about the fireplac...</td>\n",
       "      <td>2</td>\n",
       "    </tr>\n",
       "    <tr>\n",
       "      <th>4</th>\n",
       "      <td>i am feeling grouchy</td>\n",
       "      <td>3</td>\n",
       "    </tr>\n",
       "    <tr>\n",
       "      <th>...</th>\n",
       "      <td>...</td>\n",
       "      <td>...</td>\n",
       "    </tr>\n",
       "    <tr>\n",
       "      <th>15995</th>\n",
       "      <td>i just had a very brief time in the beanbag an...</td>\n",
       "      <td>0</td>\n",
       "    </tr>\n",
       "    <tr>\n",
       "      <th>15996</th>\n",
       "      <td>i am now turning and i feel pathetic that i am...</td>\n",
       "      <td>0</td>\n",
       "    </tr>\n",
       "    <tr>\n",
       "      <th>15997</th>\n",
       "      <td>i feel strong and good overall</td>\n",
       "      <td>1</td>\n",
       "    </tr>\n",
       "    <tr>\n",
       "      <th>15998</th>\n",
       "      <td>i feel like this was such a rude comment and i...</td>\n",
       "      <td>3</td>\n",
       "    </tr>\n",
       "    <tr>\n",
       "      <th>15999</th>\n",
       "      <td>i know a lot but i feel so stupid because i ca...</td>\n",
       "      <td>0</td>\n",
       "    </tr>\n",
       "  </tbody>\n",
       "</table>\n",
       "<p>16000 rows × 2 columns</p>\n",
       "</div>"
      ],
      "text/plain": [
       "                                                    text  label\n",
       "0                                i didnt feel humiliated      0\n",
       "1      i can go from feeling so hopeless to so damned...      0\n",
       "2       im grabbing a minute to post i feel greedy wrong      3\n",
       "3      i am ever feeling nostalgic about the fireplac...      2\n",
       "4                                   i am feeling grouchy      3\n",
       "...                                                  ...    ...\n",
       "15995  i just had a very brief time in the beanbag an...      0\n",
       "15996  i am now turning and i feel pathetic that i am...      0\n",
       "15997                     i feel strong and good overall      1\n",
       "15998  i feel like this was such a rude comment and i...      3\n",
       "15999  i know a lot but i feel so stupid because i ca...      0\n",
       "\n",
       "[16000 rows x 2 columns]"
      ]
     },
     "execution_count": 4,
     "metadata": {},
     "output_type": "execute_result"
    }
   ],
   "source": [
    "train_df"
   ]
  },
  {
   "cell_type": "code",
   "execution_count": 5,
   "id": "4324d0e4",
   "metadata": {},
   "outputs": [
    {
     "data": {
      "text/plain": [
       "Text(0, 0.5, 'Count')"
      ]
     },
     "execution_count": 5,
     "metadata": {},
     "output_type": "execute_result"
    },
    {
     "data": {
      "image/png": "[encoded data removed]",
      "text/plain": [
       "<Figure size 640x480 with 1 Axes>"
      ]
     },
     "metadata": {},
     "output_type": "display_data"
    }
   ],
   "source": [
    "ax = train_df[\"label\"].value_counts().plot(kind='bar', title='Label Value Counts on Train Set')\n",
    "ax.set_xlabel(\"Label\")\n",
    "ax.set_ylabel(\"Count\")"
   ]
  },
  {
   "cell_type": "code",
   "execution_count": 6,
   "id": "a77bd6b0",
   "metadata": {},
   "outputs": [
    {
     "name": "stdout",
     "output_type": "stream",
     "text": [
      "shape of train inputs:  (16000,)\n",
      "shape of train outputs:  (16000,)\n",
      "\n",
      "label value counts:\n",
      " [4666 5362 1304 2159 1937  572]\n",
      "\n",
      "label empirical prior probabilities:\n",
      " [0.291625, 0.335125, 0.0815, 0.1349375, 0.1210625]\n"
     ]
    }
   ],
   "source": [
    "train_x = train_df['text'].to_numpy()\n",
    "train_y = train_df['label'].to_numpy()\n",
    "\n",
    "# sadness = train_df[train_df['label'] == 0 ].to_numpy()\n",
    "# joy = train_df[train_df['label'] == 1 ].to_numpy()\n",
    "# love = train_df[train_df['label'] == 2 ].to_numpy()\n",
    "# anger = train_df[train_df['label'] == 3 ].to_numpy()\n",
    "# fear = train_df[train_df['label'] == 4 ].to_numpy()\n",
    "# surprise = train_df[train_df['label'] == 4 ].to_numpy()\n",
    "\n",
    "value_counts = train_df['label'].value_counts().sort_index().to_numpy()\n",
    "\n",
    "print(\"shape of train inputs: \", train_x.shape)\n",
    "print(\"shape of train outputs: \", train_y.shape)\n",
    "print()\n",
    "print(\"label value counts:\\n\",value_counts)\n",
    "print()\n",
    "\n",
    "label_prior_probs = []\n",
    "for i in range(5):\n",
    "    prior = value_counts[i] / train_x.shape[0]\n",
    "    label_prior_probs.append(prior)\n",
    "\n",
    "print(\"label empirical prior probabilities:\\n\",label_prior_probs)"
   ]
  },
  {
   "cell_type": "markdown",
   "id": "ea051f3c",
   "metadata": {},
   "source": [
    "## Extracting Features from Text:\n",
    "Bag of words model:\n",
    "- Assign a fixed integer id to each word occurring in any document of the training set (for instance by building a dictionary from words to integer indices).\n",
    "- For each tweet #i, count the number of occurrences of each word w and store it in X[i, j] as the value of feature #j where j is the index of word w in the dictionary.\n",
    "\n",
    "Tokenizing text with scikit-learn:\n",
    "- Text preprocessing, tokenizing and filtering of stopwords are all included in CountVectorizer, which builds a dictionary of features and transforms documents to feature vectors:"
   ]
  },
  {
   "cell_type": "code",
   "execution_count": 7,
   "id": "0285ccdf",
   "metadata": {},
   "outputs": [
    {
     "data": {
      "text/plain": [
       "(16000, 15186)"
      ]
     },
     "execution_count": 7,
     "metadata": {},
     "output_type": "execute_result"
    }
   ],
   "source": [
    "from sklearn.feature_extraction.text import CountVectorizer\n",
    "count_vect = CountVectorizer()\n",
    "X_train_counts = count_vect.fit_transform(train_x)\n",
    "X_train_counts.shape"
   ]
  },
  {
   "cell_type": "code",
   "execution_count": 8,
   "id": "7ec3bb7e",
   "metadata": {},
   "outputs": [
    {
     "data": {
      "text/plain": [
       "5988"
      ]
     },
     "execution_count": 8,
     "metadata": {},
     "output_type": "execute_result"
    }
   ],
   "source": [
    "#dict vocabluary: words and counts\n",
    "#vectorizer has built a dictionary of feature indices\n",
    "#The index value of a word in the vocabulary is linked to its frequency in the whole training corpus.\n",
    "from operator import itemgetter\n",
    "vocab = count_vect.vocabulary_\n",
    "vocab.get(u'happy')"
   ]
  },
  {
   "cell_type": "markdown",
   "id": "2ab6f9b1",
   "metadata": {},
   "source": [
    "## From Occurences to Frequencies \n",
    "\n",
    "from: https://scikit-learn.org/stable/tutorial/text_analytics/working_with_text_data.html\n",
    "\n",
    "\n",
    "\"Occurrence count is a good start but there is an issue: longer documents will have higher average count values than shorter documents, even though they might talk about the same topics.\n",
    "\n",
    "To avoid these potential discrepancies it suffices to divide the number of occurrences of each word in a document by the total number of words in the document: these new features are called tf for Term Frequencies.\n",
    "\n",
    "Another refinement on top of tf is to downscale weights for words that occur in many documents in the corpus and are therefore less informative than those that occur only in a smaller portion of the corpus.\n",
    "\n",
    "This downscaling is called tf–idf for “Term Frequency times Inverse Document Frequency”.\n",
    "\n",
    "Both tf and tf–idf can be computed as follows using TfidfTransformer:\""
   ]
  },
  {
   "cell_type": "code",
   "execution_count": 9,
   "id": "3a9c132e",
   "metadata": {},
   "outputs": [
    {
     "data": {
      "text/plain": [
       "(16000, 15186)"
      ]
     },
     "execution_count": 9,
     "metadata": {},
     "output_type": "execute_result"
    }
   ],
   "source": [
    "from sklearn.feature_extraction.text import TfidfTransformer\n",
    "tfidf_transformer = TfidfTransformer()\n",
    "X_train_tfidf = tfidf_transformer.fit_transform(X_train_counts)\n",
    "X_train_tfidf.shape"
   ]
  },
  {
   "cell_type": "markdown",
   "id": "69075f54",
   "metadata": {},
   "source": [
    "# Implement Naive Bayes"
   ]
  },
  {
   "cell_type": "code",
   "execution_count": 43,
   "id": "aeaa9c38",
   "metadata": {},
   "outputs": [],
   "source": [
    "class naive_bayes():\n",
    "    def __init__(self, data, alpha=0.125):\n",
    "        self.X = data['text'].to_numpy()\n",
    "        self.Y = data['label'].to_numpy()\n",
    "        self.alpha = alpha\n",
    "        self.vocab ={}\n",
    "        self.data = data\n",
    "        self.inputs = self.sparse_matrix(data)\n",
    "        self.n_features = self.inputs.shape[1]\n",
    "        self.n_inputs = self.inputs.shape[0]\n",
    "        self.n_labels = 6 \n",
    "        self.grouped_classes = self.separate_classes()\n",
    "        self.wordFrequencies=self.get_w_freqs() \n",
    "        self.totalWordFrequencies=self.get_total_w_freqs() \n",
    "        self.priors = None\n",
    "        self.posteriors = None\n",
    "\n",
    "    def print_stuff(self):\n",
    "        print(\"n features:\", self.n_features)\n",
    "        print(\"n inputs:\", self.n_inputs)\n",
    "        print(\"priors:\", self.priors)\n",
    "        print(\"total word freqs:\\n\", self.totalWordFrequencies)\n",
    "\n",
    "\n",
    "    def sparse_matrix(self, D, test=False):\n",
    "        sentences = D['text'].to_numpy()\n",
    "        vectorizer = CountVectorizer(vocabulary=self.vocab) if test else CountVectorizer()\n",
    "        X_counts = vectorizer.fit_transform(sentences)\n",
    "        \n",
    "        if not test:\n",
    "            self.vocab = vectorizer.vocabulary_\n",
    "        \n",
    "        return X_counts  # Returns a sparse matrix\n",
    "    \n",
    "    def separate_classes(self):\n",
    "        grouped_classes = []\n",
    "        for i in range(self.n_labels):\n",
    "            class_data = self.data[self.data['label'] == i]\n",
    "            class_sparse_matrix = self.sparse_matrix(class_data, test=True)  # Convert to sparse matrix\n",
    "            grouped_classes.append(class_sparse_matrix)\n",
    "\n",
    "        return grouped_classes\n",
    "        \n",
    "    def get_priors(self):\n",
    "        value_counts = self.data['label'].value_counts().sort_index().to_numpy()\n",
    "        label_prior_probs = []\n",
    "        for i in range(self.n_labels):\n",
    "            prior = value_counts[i] / self.data.shape[0]\n",
    "            label_prior_probs.append(prior)\n",
    "        return label_prior_probs\n",
    "    \n",
    "    def get_w_freqs(self):\n",
    "        freqs = [None] * self.n_labels\n",
    "        for c in range(self.n_labels):\n",
    "            # Stack all sentence vectors for class c\n",
    "            sentences = vstack(self.grouped_classes[c])\n",
    "            # Sum along the columns (axis=0) to get total frequencies per feature for class c\n",
    "            freqs[c] = np.array(sentences.sum(axis=0)).ravel()  # Convert to 1D array\n",
    "        return freqs\n",
    "\n",
    "    def get_total_w_freqs(self):\n",
    "        counts = [0] * self.n_labels\n",
    "        for c in range(self.n_labels):\n",
    "            # Stack all sentence vectors for class c\n",
    "            sentences = vstack(self.grouped_classes[c])\n",
    "            # Sum all elements to get total word frequency for class c\n",
    "            counts[c] = sentences.sum()\n",
    "        return counts\n",
    "\n",
    "    def get_w_freqs_tf(self):\n",
    "        tfidf_transformer = TfidfTransformer()\n",
    "        freqs = [None] * self.n_labels\n",
    "        for c in range(self.n_labels):\n",
    "            # Stack all sentence vectors for class c\n",
    "            sentences = vstack(self.grouped_classes[c])\n",
    "            # Compute TF-IDF weights for class c\n",
    "            tfidf = tfidf_transformer.fit_transform(sentences)\n",
    "            # Sum along the columns (axis=0) to get total TF-IDF per feature for class c\n",
    "            freqs[c] = np.array(tfidf.sum(axis=0)).ravel()  # Convert to 1D array\n",
    "        return freqs\n",
    "\n",
    "    def get_total_w_freqs_tf(self):\n",
    "        tfidf_transformer = TfidfTransformer()\n",
    "        counts = [0] * self.n_labels\n",
    "        for c in range(self.n_labels):\n",
    "            # Stack all sentence vectors for class c\n",
    "            sentences = vstack(self.grouped_classes[c])\n",
    "            # Compute TF-IDF weights for class c\n",
    "            tfidf = tfidf_transformer.fit_transform(sentences)\n",
    "            # Sum all elements to get total TF-IDF score for class c\n",
    "            counts[c] = tfidf.sum()\n",
    "        return counts\n",
    "\n",
    "    def get_post_probs(self):\n",
    "        # self.alpha = 1  # Laplace smoothing factor\n",
    "        post_probs = np.zeros((self.n_labels, self.n_features))\n",
    "\n",
    "        for c in range(self.n_labels):\n",
    "            # Apply Laplace smoothing\n",
    "            word_freqs_with_smoothing = self.wordFrequencies[c] + self.alpha\n",
    "            total_freq = self.totalWordFrequencies[c] + self.alpha * self.n_features\n",
    "            post_probs[c] = np.divide(word_freqs_with_smoothing, total_freq)\n",
    "\n",
    "        return post_probs\n",
    "        \n",
    "    def predict_on_sentence(self, sentence):\n",
    "        log_probabilities = np.zeros(self.n_labels)\n",
    "\n",
    "        for i in range(self.n_labels):\n",
    "            # Ensure self.priors[i] is a scalar\n",
    "            if np.isscalar(self.priors[i]):\n",
    "                log_p = np.log(self.priors[i])\n",
    "            else:\n",
    "                raise ValueError(\"Prior probability is not a scalar\")\n",
    "\n",
    "            for j in range(self.n_features):\n",
    "                # Check if self.posteriors[i][j] is a scalar\n",
    "                if np.isscalar(self.posteriors[i][j]):\n",
    "                    # Handle zero probabilities\n",
    "                    posterior = self.posteriors[i][j] if self.posteriors[i][j] > 0 else 1e-10\n",
    "                    log_p += sentence[j] * np.log(posterior)\n",
    "                else:\n",
    "                    raise ValueError(\"Posterior probability is not a scalar\")\n",
    "\n",
    "            log_probabilities[i] = log_p\n",
    "\n",
    "        # Converting log probabilities back to normal scale\n",
    "        max_log = np.max(log_probabilities)\n",
    "        probabilities = np.exp(log_probabilities - max_log)\n",
    "        pSum = np.sum(probabilities)\n",
    "        probabilities = probabilities / pSum\n",
    "\n",
    "        return probabilities\n",
    "\n",
    "    \n",
    "    def predict_on_df(self, test_x):\n",
    "        yh = []\n",
    "        x = self.sparse_matrix(test_x, test= True)\n",
    "        \n",
    "        for sentence in x:\n",
    "            # Convert each sparse row to a dense array\n",
    "            dense_sentence = sentence.toarray().ravel()\n",
    "            ys = self.predict_on_sentence(dense_sentence)\n",
    "            yh.append(np.argmax(ys))\n",
    "\n",
    "        return yh\n",
    "        \n",
    "    def fit(self):\n",
    "        priors=self.get_priors()\n",
    "        self.priors=priors\n",
    "        \n",
    "        posteriors=self.get_post_probs()\n",
    "        self.posteriors=posteriors\n",
    "        \n",
    "    def evaluate_acc(self, test_x):\n",
    "        y_true = test_x['label'].to_numpy()  # Actual labels\n",
    "        y_pred = self.predict_on_df(test_x)        # Predicted labels\n",
    "        accuracy = np.mean(y_true == y_pred)\n",
    "        return accuracy"
   ]
  },
  {
   "cell_type": "code",
   "execution_count": 44,
   "id": "d635b9d0",
   "metadata": {},
   "outputs": [
    {
     "name": "stdout",
     "output_type": "stream",
     "text": [
      "Test accuracy: 0.786\n",
      "Validation accuracy: 0.788\n"
     ]
    }
   ],
   "source": [
    "model=naive_bayes(train_df) \n",
    "model.fit()\n",
    "# model.print_stuff()\n",
    "\n",
    "print(\"Test accuracy:\", model.evaluate_acc(test_df))\n",
    "print(\"Validation accuracy:\", model.evaluate_acc(val_df))"
   ]
  },
  {
   "cell_type": "markdown",
   "metadata": {},
   "source": [
    "### Results\n",
    "- Alpha = 0 (no smoothing):\n",
    "    - Test accuracy: 0.7115\n",
    "    - Validation accuracy: 0.697 \n",
    "- Alpha = 1:\n",
    "    - Test accuracy: 0.7655\n",
    "    - Validation accuracy: 0.7615\n",
    "- Alpha = 0.5:\n",
    "    - Test accuracy: 0.8\n",
    "    - Validation accuracy: 0.8045\n",
    "- Alpha = 0.25:\n",
    "    - Test accuracy: 0.8015\n",
    "    - Validation accuracy: 0.8055\n",
    "- Alpha = 0.125:\n",
    "    - Test accuracy: 0.786\n",
    "    - Validation accuracy: 0.788\n",
    "- Alpha = 0.0125:\n",
    "    - Test accuracy: 0.743\n",
    "    - Validation accuracy: 0.732\n",
    "### Ideas for Exploration\n",
    "- use of tf–idf weights instead of raw term frequencies \n",
    "- stop-word removal\n",
    "- n-grams"
   ]
  },
  {
   "cell_type": "code",
   "execution_count": 45,
   "metadata": {},
   "outputs": [
    {
     "data": {
      "image/png": "[encoded data removed]",
      "text/plain": [
       "<Figure size 640x480 with 1 Axes>"
      ]
     },
     "metadata": {},
     "output_type": "display_data"
    }
   ],
   "source": [
    "import matplotlib.pyplot as plt\n",
    "test_acc = [0.7115, 0.743,0.786, 0.8015, 0.8, 0.7655]\n",
    "val_acc = [0.697, 0.732, 0.788, 0.8055, 0.8045, 0.7615]\n",
    "alpha = [0.0, 0.0125, 0.125, 0.25, 0.5, 1.0]\n",
    "\n",
    "fig, ax = plt.subplots()\n",
    "ax.set_xlabel(r\"$\\alpha$\")\n",
    "ax.set_ylabel(\"accuracy\")\n",
    "ax.plot(alpha, test_acc, color='blue', label='Test')\n",
    "ax.plot(alpha, val_acc, color='red', label='Validation')\n",
    "ax.legend()\n",
    "fig.tight_layout()\n",
    "plt.title(r\"Accuracy vs Smoothing Parameter $\\alpha$\")\n",
    "plt.show()\n"
   ]
  },
  {
   "cell_type": "markdown",
   "metadata": {},
   "source": [
    "# Experiment with stop-words\n",
    "Removing words from the corpus that appear commonly accross all classes, and thus have little bearing on the label of a tweet. I use the natural language toolkit (nltk) pre-built dictionary of english stop words."
   ]
  },
  {
   "cell_type": "code",
   "execution_count": 41,
   "metadata": {},
   "outputs": [],
   "source": [
    "from nltk.corpus import stopwords\n",
    "stopwords = set(stopwords.words('english'))\n",
    "\n",
    "def remove_stopwords(df):\n",
    "    stop_df = df\n",
    "    stop_df = stop_df.assign(text=df['text'].apply(lambda x: ' '.join([word for word in x.split() if word not in (stopwords)])))\n",
    "    return stop_df\n",
    "\n",
    "train_df_stop = remove_stopwords(train_df)\n",
    "test_df_stop = remove_stopwords(test_df)\n",
    "val_df_stop = remove_stopwords(val_df)"
   ]
  },
  {
   "cell_type": "code",
   "execution_count": 42,
   "metadata": {},
   "outputs": [
    {
     "name": "stdout",
     "output_type": "stream",
     "text": [
      "n features: 15046\n",
      "n inputs: 16000\n",
      "priors: [0.291625, 0.335125, 0.0815, 0.1349375, 0.1210625, 0.03575]\n",
      "total word freqs:\n",
      " [42090, 50970, 12935, 20101, 17803, 5562]\n",
      "Test accuracy: 0.8035\n",
      "Validation accuracy: 0.8065\n"
     ]
    }
   ],
   "source": [
    "model=naive_bayes(train_df_stop) \n",
    "model.fit()\n",
    "model.print_stuff()\n",
    "\n",
    "print(\"Test accuracy:\", model.evaluate_acc(test_df_stop))\n",
    "print(\"Validation accuracy:\", model.evaluate_acc(val_df_stop))"
   ]
  },
  {
   "cell_type": "markdown",
   "metadata": {},
   "source": [
    "Accuracy slightly improves with stop-words removed. Testing with $\\alpha$ = 0.25 we see an increas from 80.15% to 80.35% accuracy on the test set. "
   ]
  },
  {
   "cell_type": "markdown",
   "metadata": {},
   "source": [
    "## Adding tf-idf weights \n",
    "The TF-IDF (Term Frequency-Inverse Document Frequency) weight is a statistical measure used to evaluate the importance of a word to a document in a collection or corpus. It is often considered a more effective method than simple word frequency counts. In many machine learning algorithms for text analysis, using TF-IDF can lead to better results because it improves the representation of text. By reducing the weight of less informative common words, it allows the algorithms to focus on more distinguishing features (words)."
   ]
  },
  {
   "cell_type": "markdown",
   "metadata": {},
   "source": []
  }
 ],
 "metadata": {
  "kernelspec": {
   "display_name": "Python 3 (ipykernel)",
   "language": "python",
   "name": "python3"
  },
  "language_info": {
   "codemirror_mode": {
    "name": "ipython",
    "version": 3
   },
   "file_extension": ".py",
   "mimetype": "text/x-python",
   "name": "python",
   "nbconvert_exporter": "python",
   "pygments_lexer": "ipython3",
   "version": "3.9.12"
  }
 },
 "nbformat": 4,
 "nbformat_minor": 5
}
